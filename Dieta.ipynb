{
 "cells": [
  {
   "cell_type": "code",
   "execution_count": 9,
   "id": "2dd79e1b",
   "metadata": {},
   "outputs": [
    {
     "name": "stdout",
     "output_type": "stream",
     "text": [
      "Escolha qual o tipo de dieta você gostaria de obter:\n",
      "1. Dieta para emagrecer \n",
      "2. Dieta para ganho de massa \n",
      "3. Dieta para se aliementar melhor\n",
      "2\n"
     ]
    },
    {
     "name": "stderr",
     "output_type": "stream",
     "text": [
      "C:\\Users\\koliveira\\AppData\\Local\\Temp\\ipykernel_11296\\2127588053.py:24: UserWarning: pandas only supports SQLAlchemy connectable (engine/connection) or database string URI or sqlite3 DBAPI2 connection. Other DBAPI2 objects are not tested. Please consider using SQLAlchemy.\n",
      "  dieta = pd.read_sql('SELECT * FROM ganho_massa', conexao)\n"
     ]
    },
    {
     "data": {
      "text/html": [
       "<div>\n",
       "<style scoped>\n",
       "    .dataframe tbody tr th:only-of-type {\n",
       "        vertical-align: middle;\n",
       "    }\n",
       "\n",
       "    .dataframe tbody tr th {\n",
       "        vertical-align: top;\n",
       "    }\n",
       "\n",
       "    .dataframe thead th {\n",
       "        text-align: right;\n",
       "    }\n",
       "</style>\n",
       "<table border=\"1\" class=\"dataframe\">\n",
       "  <thead>\n",
       "    <tr style=\"text-align: right;\">\n",
       "      <th></th>\n",
       "      <th>opção</th>\n",
       "      <th>refeição</th>\n",
       "      <th>alimentos</th>\n",
       "    </tr>\n",
       "  </thead>\n",
       "  <tbody>\n",
       "    <tr>\n",
       "      <th>0</th>\n",
       "      <td>1</td>\n",
       "      <td>Café da manhã</td>\n",
       "      <td>Omelete com 3 ovos inteiros com 70g de queijo,...</td>\n",
       "    </tr>\n",
       "    <tr>\n",
       "      <th>1</th>\n",
       "      <td>1</td>\n",
       "      <td>Lanche da manhã</td>\n",
       "      <td>Shake de proteína com 200ml leite, 1 banana e ...</td>\n",
       "    </tr>\n",
       "    <tr>\n",
       "      <th>2</th>\n",
       "      <td>1</td>\n",
       "      <td>Almoço</td>\n",
       "      <td>150g Peito de frango grelhado com 100g batata ...</td>\n",
       "    </tr>\n",
       "    <tr>\n",
       "      <th>3</th>\n",
       "      <td>1</td>\n",
       "      <td>Lanche tarde</td>\n",
       "      <td>Iogurte grego</td>\n",
       "    </tr>\n",
       "    <tr>\n",
       "      <th>4</th>\n",
       "      <td>1</td>\n",
       "      <td>Janta</td>\n",
       "      <td>150g Bife magro com vegetais salteados e 150g ...</td>\n",
       "    </tr>\n",
       "    <tr>\n",
       "      <th>5</th>\n",
       "      <td>1</td>\n",
       "      <td>Ceia</td>\n",
       "      <td>shake de proteína</td>\n",
       "    </tr>\n",
       "  </tbody>\n",
       "</table>\n",
       "</div>"
      ],
      "text/plain": [
       "   opção         refeição                                          alimentos\n",
       "0      1    Café da manhã  Omelete com 3 ovos inteiros com 70g de queijo,...\n",
       "1      1  Lanche da manhã  Shake de proteína com 200ml leite, 1 banana e ...\n",
       "2      1           Almoço  150g Peito de frango grelhado com 100g batata ...\n",
       "3      1     Lanche tarde                                      Iogurte grego\n",
       "4      1            Janta  150g Bife magro com vegetais salteados e 150g ...\n",
       "5      1             Ceia                                  shake de proteína"
      ]
     },
     "metadata": {},
     "output_type": "display_data"
    }
   ],
   "source": [
    "import psycopg2\n",
    "import pandas as pd\n",
    "\n",
    "conexao = psycopg2.connect(database = \"ProgramPython\",\n",
    "                          host = \"localhost\",\n",
    "                          user = \"postgres\",\n",
    "                          password = \"xxxxxx\",\n",
    "                          port = \"5432\")\n",
    "\n",
    "n_dieta = 0\n",
    "\n",
    "print('Escolha qual o tipo de dieta você gostaria de obter:')\n",
    "print('1. Dieta para emagrecer \\n'\n",
    "     '2. Dieta para ganho de massa \\n'\n",
    "     '3. Dieta para se aliementar melhor')\n",
    "\n",
    "n_dieta = input()\n",
    "\n",
    "if (int(n_dieta) == 1):\n",
    "    dieta = pd.read_sql('SELECT * FROM emagrecer', conexao)\n",
    "    display(dieta)\n",
    "    \n",
    "elif (int(n_dieta) == 2):\n",
    "    dieta = pd.read_sql('SELECT * FROM ganho_massa', conexao)\n",
    "    display(dieta)\n",
    "    \n",
    "else:\n",
    "    dieta = pd.read_sql('SELECT * FROM saudavel', conexao)\n",
    "    display(dieta)"
   ]
  },
  {
   "cell_type": "code",
   "execution_count": null,
   "id": "b3e2154f",
   "metadata": {},
   "outputs": [],
   "source": []
  }
 ],
 "metadata": {
  "kernelspec": {
   "display_name": "Python 3 (ipykernel)",
   "language": "python",
   "name": "python3"
  },
  "language_info": {
   "codemirror_mode": {
    "name": "ipython",
    "version": 3
   },
   "file_extension": ".py",
   "mimetype": "text/x-python",
   "name": "python",
   "nbconvert_exporter": "python",
   "pygments_lexer": "ipython3",
   "version": "3.11.3"
  }
 },
 "nbformat": 4,
 "nbformat_minor": 5
}
